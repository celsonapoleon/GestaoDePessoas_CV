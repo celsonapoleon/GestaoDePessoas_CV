{
  "nbformat": 4,
  "nbformat_minor": 0,
  "metadata": {
    "colab": {
      "provenance": []
    },
    "kernelspec": {
      "name": "python3",
      "display_name": "Python 3"
    },
    "language_info": {
      "name": "python"
    }
  },
  "cells": [
    {
      "cell_type": "markdown",
      "source": [
        "Sistema de **\"Agente de Apoio à Carreira e Desenvolvimento Profissional\"**: Um agente com tools e lógica de decisão, além de implementar um sistema multiagentes básico focado em automação que ajuda na elaboração de currículos e cartas de apresentação, oferece dicas para entrevistas, sugere cursos e treinamentos relevantes para sua área e te conecta com oportunidades de emprego."
      ],
      "metadata": {
        "id": "CRYJIVwYbORh"
      }
    },
    {
      "cell_type": "code",
      "source": [
        "import json\n",
        "from datetime import datetime"
      ],
      "metadata": {
        "id": "zag2H3slWYGg"
      },
      "execution_count": 2,
      "outputs": []
    },
    {
      "cell_type": "code",
      "source": [
        "class BaseAgent:\n",
        "    def __init__(self, name):\n",
        "        self.name = name\n",
        "        self.memory = {} # Simulação de memória para aprendizado (simples dicionário)\n",
        "\n",
        "    def pensar_passo_a_passo(self, pensamento):\n",
        "        print(f\"[{self.name}] Pensando: {pensamento}\")\n",
        "\n",
        "    def gerar_conteudo(self, conteudo):\n",
        "        self.pensar_passo_a_passo(f\"Gerando conteúdo: {conteudo[:50]}...\") # Exibe os primeiros 50 caracteres\n",
        "        return conteudo\n",
        "\n",
        "    def especular(self, especulacao):\n",
        "        print(f\"[{self.name}] Especulando: {especulacao}\")\n",
        "        return especulacao\n",
        "\n",
        "    def nao_sei(self, motivo):\n",
        "        print(f\"[{self.name}] Não sei a resposta porque: {motivo}\")\n",
        "        return None\n",
        "\n",
        "    def citar_fonte(self, fonte, info):\n",
        "        print(f\"[{self.name}] Fonte: {fonte} - Informação: {info[:50]}...\") # Exibe os primeiros 50 caracteres\n",
        "        return {\"fonte\": fonte, \"informacao\": info}\n",
        "\n",
        "    def receber_mensagem(self, remetente, mensagem):\n",
        "        print(f\"[{self.name}] Recebeu mensagem de [{remetente.name}]: {mensagem}\")\n",
        "        self.memory.setdefault(remetente.name, []).append({\"timestamp\": datetime.now().isoformat(), \"mensagem\": mensagem})\n",
        "\n",
        "    def enviar_mensagem(self, destinatario, mensagem):\n",
        "        print(f\"[{self.name}] Enviando mensagem para [{destinatario.name}]: {mensagem}\")\n",
        "        destinatario.receber_mensagem(self, mensagem)"
      ],
      "metadata": {
        "id": "6asiY6zyWayE"
      },
      "execution_count": 3,
      "outputs": []
    },
    {
      "cell_type": "code",
      "source": [
        "class UserProfileAgent(BaseAgent):\n",
        "    def __init__(self):\n",
        "        super().__init__(\"Agente de Perfil do Usuário\")\n",
        "        self.user_data = {}\n",
        "\n",
        "    def coletar_informacoes(self):\n",
        "        print(f\"[{self.name}] Iniciando coleta de informações do usuário...\")\n",
        "        # Simulação de coleta de informações (substituir por interações reais)\n",
        "        self.user_data['nome'] = input(\"Digite seu nome: \")\n",
        "        self.user_data['experiencia'] = input(\"Descreva sua experiência profissional: \")\n",
        "        self.user_data['habilidades'] = input(\"Liste suas principais habilidades: \")\n",
        "        self.user_data['objetivo'] = input(\"Qual seu objetivo de carreira? \")\n",
        "        self.user_data['area_interesse'] = input(\"Qual sua área de interesse para desenvolvimento? \")\n",
        "        print(f\"[{self.name}] Informações do usuário coletadas.\")\n",
        "        return self.user_data"
      ],
      "metadata": {
        "id": "ZnUtB1FlWuP9"
      },
      "execution_count": 4,
      "outputs": []
    },
    {
      "cell_type": "code",
      "source": [
        "class DocumentGenerationAgent(BaseAgent):\n",
        "    def __init__(self):\n",
        "        super().__init__(\"Agente de Geração de Documentos\")\n",
        "\n",
        "    def gerar_curriculo(self, user_data):\n",
        "        self.pensar_passo_a_passo(\"Gerando currículo com base nos dados do usuário.\")\n",
        "        if not user_data:\n",
        "            return self.nao_sei(\"Não há dados do usuário para gerar o currículo.\")\n",
        "\n",
        "        curriculo = f\"\"\"\n",
        "        --- Currículo ---\n",
        "        Nome: {user_data.get('nome', 'N/A')}\n",
        "        Experiência: {user_data.get('experiencia', 'N/A')}\n",
        "        Habilidades: {user_data.get('habilidades', 'N/A')}\n",
        "        Objetivo: {user_data.get('objetivo', 'N/A')}\n",
        "        --- Fim do Currículo ---\n",
        "        \"\"\"\n",
        "        return self.gerar_conteudo(curriculo)\n",
        "\n",
        "    def gerar_carta_apresentacao(self, user_data, vaga=None):\n",
        "        self.pensar_passo_a_passo(f\"Gerando carta de apresentação para a vaga: {vaga if vaga else 'genérica'}.\")\n",
        "        if not user_data:\n",
        "            return self.nao_sei(\"Não há dados do usuário para gerar a carta de apresentação.\")\n",
        "\n",
        "        carta = f\"\"\"\n",
        "        --- Carta de Apresentação ---\n",
        "        Prezado(a) Senhor(a),\n",
        "\n",
        "        Com base em minha experiência em {user_data.get('experiencia', 'N/A')} e minhas habilidades em {user_data.get('habilidades', 'N/A')},\n",
        "        acredito que possuo o perfil adequado para contribuir com sua organização. Meu objetivo de carreira é {user_data.get('objetivo', 'N/A')}.\n",
        "\n",
        "        Agradeço a sua atenção e coloco-me à disposição para uma entrevista.\n",
        "\n",
        "        Atenciosamente,\n",
        "        {user_data.get('nome', 'N/A')}\n",
        "        --- Fim da Carta de Apresentação ---\n",
        "        \"\"\"\n",
        "        return self.gerar_conteudo(carta)\n"
      ],
      "metadata": {
        "id": "z2oxDurIW4F0"
      },
      "execution_count": 5,
      "outputs": []
    },
    {
      "cell_type": "code",
      "source": [
        "class DevelopmentSuggestionAgent(BaseAgent):\n",
        "    def __init__(self):\n",
        "        super().__init__(\"Agente de Sugestão de Desenvolvimento\")\n",
        "        self.cursos_data = {\n",
        "            \"programacao\": [\n",
        "                {\"nome\": \"Python para Iniciantes\", \"link\": \"https://www.exemplo.com/python_iniciantes\"},\n",
        "                {\"nome\": \"Desenvolvimento Web com Django\", \"link\": \"https://www.exemplo.com/django\"}\n",
        "            ],\n",
        "            \"marketing\": [\n",
        "                {\"nome\": \"Marketing Digital Essencial\", \"link\": \"https://www.exemplo.com/marketing_digital\"},\n",
        "                {\"nome\": \"SEO Avançado\", \"link\": \"https://www.exemplo.com/seo_avancado\"}\n",
        "            ],\n",
        "            \"gestao_projetos\": [\n",
        "                {\"nome\": \"Fundamentos de Gerenciamento de Projetos\", \"link\": \"https://www.exemplo.com/gestao_projetos_fundamentos\"},\n",
        "                {\"nome\": \"Metodologias Ágeis\", \"link\": \"https://www.exemplo.com/metodologias_ageis\"}\n",
        "            ]\n",
        "        }\n",
        "\n",
        "    def sugerir_cursos(self, area_interesse):\n",
        "        self.pensar_passo_a_passo(f\"Sugerindo cursos para a área de: {area_interesse}.\")\n",
        "        if area_interesse.lower() in self.cursos_data:\n",
        "            sugestoes = [self.citar_fonte(curso['link'], curso['nome']) for curso in self.cursos_data[area_interesse.lower()]]\n",
        "            return self.gerar_conteudo(f\"Cursos sugeridos para {area_interesse}: {sugestoes}\")\n",
        "        else:\n",
        "            return self.nao_sei(f\"Não tenho cursos específicos para a área de '{area_interesse}' no momento.\")\n",
        "\n"
      ],
      "metadata": {
        "id": "nPPMJvLDXJ2l"
      },
      "execution_count": 6,
      "outputs": []
    },
    {
      "cell_type": "code",
      "source": [
        "class InterviewPrepAgent(BaseAgent):\n",
        "    def __init__(self):\n",
        "        super().__init__(\"Agente de Preparação para Entrevistas\")\n",
        "        self.dicas = [\n",
        "            \"Pesquise sobre a empresa e a vaga.\",\n",
        "            \"Prepare respostas para perguntas comuns (fale sobre você, seus pontos fortes e fracos, etc.).\",\n",
        "            \"Vista-se de forma profissional.\",\n",
        "            \"Chegue no horário.\",\n",
        "            \"Faça perguntas relevantes ao final da entrevista.\"\n",
        "        ]\n",
        "\n",
        "    def oferecer_dicas(self):\n",
        "        self.pensar_passo_a_passo(\"Oferecendo dicas para entrevistas.\")\n",
        "        return self.gerar_conteudo(f\"Dicas para entrevistas: {', '.join(self.dicas)}\")\n",
        "\n",
        "    def simular_entrevista(self):\n",
        "        self.pensar_passo_a_passo(\"Simulando uma pergunta de entrevista.\")\n",
        "        # Simulação muito básica\n",
        "        perguntas = [\"Fale um pouco sobre você.\", \"Qual sua maior fraqueza?\", \"Onde você se vê em 5 anos?\"]\n",
        "        import random\n",
        "        pergunta = random.choice(perguntas)\n",
        "        return self.gerar_conteudo(f\"Pergunta de simulação: {pergunta}\")\n",
        "\n"
      ],
      "metadata": {
        "id": "cDWJvdcCXj9C"
      },
      "execution_count": 7,
      "outputs": []
    },
    {
      "cell_type": "code",
      "source": [
        "class OpportunityConnectorAgent(BaseAgent):\n",
        "    def __init__(self):\n",
        "        super().__init__(\"Agente de Conexão com Oportunidades\")\n",
        "        self.vagas = {\n",
        "            \"programador python\": [\n",
        "                {\"titulo\": \"Desenvolvedor Python Júnior\", \"empresa\": \"Empresa A\", \"link\": \"https://www.exemplo.com/vaga_python_jr\"},\n",
        "                {\"titulo\": \"Desenvolvedor Python Pleno\", \"empresa\": \"Empresa B\", \"link\": \"https://www.exemplo.com/vaga_python_pl\"}\n",
        "            ],\n",
        "            \"analista de marketing\": [\n",
        "                {\"titulo\": \"Analista de Marketing Júnior\", \"empresa\": \"Agência X\", \"link\": \"https://www.exemplo.com/vaga_marketing_jr\"}\n",
        "            ]\n",
        "        }\n",
        "\n",
        "    def buscar_oportunidades(self, area_interesse):\n",
        "        self.pensar_passo_a_passo(f\"Buscando oportunidades para a área de: {area_interesse}.\")\n",
        "        area_formatada = area_interesse.lower().replace(\" \", \"_\") # Adapta para a chave no dicionário (simplificado)\n",
        "        if area_formatada in self.vagas:\n",
        "            oportunidades = [self.citar_fonte(vaga['link'], f\"{vaga['titulo']} - {vaga['empresa']}\") for vaga in self.vagas[area_formatada]]\n",
        "            return self.gerar_conteudo(f\"Oportunidades encontradas para {area_interesse}: {oportunidades}\")\n",
        "        else:\n",
        "            return self.especular(f\"Não encontrei vagas específicas para '{area_interesse}' no meu banco de dados no momento. Talvez você encontre em plataformas como [Link para Indeed], [Link para LinkedIn Vagas].\") # Exemplo de especulação com sugestão de fontes\n",
        "\n"
      ],
      "metadata": {
        "id": "aAGEHIxuX3PT"
      },
      "execution_count": 8,
      "outputs": []
    },
    {
      "cell_type": "code",
      "source": [
        "# Função para simular a interação entre os agentes\n",
        "def sistema_de_apoio_carreira():\n",
        "    perfil_agente = UserProfileAgent()\n",
        "    documento_agente = DocumentGenerationAgent()\n",
        "    desenvolvimento_agente = DevelopmentSuggestionAgent()\n",
        "    entrevista_agente = InterviewPrepAgent()\n",
        "    oportunidade_agente = OpportunityConnectorAgent()\n",
        "\n",
        "    print(\"Bem-vindo ao Sistema de Apoio à Carreira e Desenvolvimento Profissional!\")\n",
        "\n",
        "    # Fase 1: Coleta de informações do usuário\n",
        "    user_data = perfil_agente.coletar_informacoes()\n",
        "\n",
        "    # Fase 2: Geração de currículo e carta\n",
        "    print(\"\\n--- Geração de Currículo e Carta ---\")\n",
        "    curriculo = documento_agente.gerar_curriculo(user_data)\n",
        "    if curriculo:\n",
        "        print(\"\\nSeu Currículo:\\n\", curriculo)\n",
        "    carta = documento_agente.gerar_carta_apresentacao(user_data, vaga=\"Desenvolvedor Python Júnior\") # Exemplo de vaga\n",
        "    if carta:\n",
        "        print(\"\\nSua Carta de Apresentação:\\n\", carta)\n",
        "\n",
        "    # Fase 3: Sugestão de desenvolvimento\n",
        "    print(\"\\n--- Sugestões de Desenvolvimento ---\")\n",
        "    if 'area_interesse' in user_data:\n",
        "        sugestoes_cursos = desenvolvimento_agente.sugerir_cursos(user_data['area_interesse'])\n",
        "        if sugestoes_cursos:\n",
        "            print(sugestoes_cursos)\n",
        "\n",
        "    # Fase 4: Preparação para entrevistas\n",
        "    print(\"\\n--- Preparação para Entrevistas ---\")\n",
        "    dicas_entrevista = entrevista_agente.oferecer_dicas()\n",
        "    if dicas_entrevista:\n",
        "        print(dicas_entrevista)\n",
        "    simulacao_pergunta = entrevista_agente.simular_entrevista()\n",
        "    if simulacao_pergunta:\n",
        "        print(simulacao_pergunta)\n",
        "\n",
        "    # Fase 5: Conexão com oportunidades\n",
        "    print(\"\\n--- Conexão com Oportunidades ---\")\n",
        "    if 'area_interesse' in user_data:\n",
        "        oportunidades = oportunidade_agente.buscar_oportunidades(user_data['area_interesse'])\n",
        "        if oportunidades:\n",
        "            print(oportunidades)\n",
        "\n",
        "# Executar o sistema\n",
        "if __name__ == \"__main__\":\n",
        "    sistema_de_apoio_carreira()\n",
        ""
      ],
      "metadata": {
        "id": "7Fr9UHNkX5z1"
      },
      "execution_count": null,
      "outputs": []
    }
  ]
}